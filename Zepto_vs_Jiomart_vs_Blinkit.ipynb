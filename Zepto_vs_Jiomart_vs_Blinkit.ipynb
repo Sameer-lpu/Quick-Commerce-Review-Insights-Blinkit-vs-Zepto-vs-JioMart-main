{
  "nbformat": 4,
  "nbformat_minor": 0,
  "metadata": {
    "colab": {
      "private_outputs": true,
      "provenance": []
    },
    "kernelspec": {
      "name": "python3",
      "display_name": "Python 3"
    },
    "language_info": {
      "name": "python"
    }
  },
  "cells": [
    {
      "cell_type": "code",
      "source": [
        "# --- Colab: one-time installs ---\n",
        "!pip -q install wordcloud==1.9.3"
      ],
      "metadata": {
        "id": "UAwLNZ9CRXCr"
      },
      "execution_count": null,
      "outputs": []
    },
    {
      "cell_type": "code",
      "execution_count": null,
      "metadata": {
        "id": "SOOVfQ3RRR7p"
      },
      "outputs": [],
      "source": [
        "# --- Imports ---\n",
        "import os\n",
        "import re\n",
        "import numpy as np\n",
        "import pandas as pd\n",
        "import matplotlib.pyplot as plt\n",
        "from wordcloud import WordCloud\n",
        "from collections import Counter\n",
        "\n",
        "# Make outputs folder\n",
        "OUT_DIR = \"/content/outputs\"\n",
        "os.makedirs(OUT_DIR, exist_ok=True)\n",
        "\n",
        "# Matplotlib defaults\n",
        "plt.rcParams[\"figure.figsize\"] = (10, 6)\n",
        "plt.rcParams[\"axes.grid\"] = True\n",
        "plt.rcParams[\"figure.dpi\"] = 110\n",
        "\n",
        "print(\"Setup complete. Output folder:\", OUT_DIR)\n"
      ]
    },
    {
      "cell_type": "code",
      "source": [
        "# Load the uploaded dataset\n",
        "file_path = \"/content/reviews.csv\"\n",
        "df = pd.read_csv(file_path)\n",
        "\n",
        "# Basic info about the dataset\n",
        "info = df.info()\n",
        "head = df.head()\n",
        "shape = df.shape\n",
        "\n"
      ],
      "metadata": {
        "id": "5LJPNGJNRs2H"
      },
      "execution_count": null,
      "outputs": []
    },
    {
      "cell_type": "code",
      "source": [
        "# Ensure required columns exist\n",
        "required_cols = {\"rating\", \"date\", \"review\", \"platform\"}\n",
        "missing = required_cols - set(df.columns.str.lower())\n",
        "if missing:\n",
        "    raise ValueError(f\"Missing columns: {missing}. Expecting {required_cols}\")\n",
        "\n",
        "# Normalize column names\n",
        "df.columns = df.columns.str.lower()\n",
        "\n",
        "# Coerce types\n",
        "df[\"rating\"] = pd.to_numeric(df[\"rating\"], errors=\"coerce\")\n",
        "df[\"review\"] = df[\"review\"].astype(str)\n",
        "df[\"platform\"] = df[\"platform\"].str.lower().str.strip()\n",
        "\n",
        "# Dates\n",
        "df[\"date\"] = pd.to_datetime(df[\"date\"], errors=\"coerce\", dayfirst=False, infer_datetime_format=True)\n",
        "if df[\"date\"].isna().all():\n",
        "    # Fallback: try dayfirst True\n",
        "    df[\"date\"] = pd.to_datetime(df[\"date\"], errors=\"coerce\", dayfirst=True)\n",
        "df[\"month\"] = df[\"date\"].dt.to_period(\"M\")\n",
        "\n",
        "print(df.dtypes)\n",
        "df.sample(5)\n"
      ],
      "metadata": {
        "id": "naq6-vQGSL2x"
      },
      "execution_count": null,
      "outputs": []
    },
    {
      "cell_type": "code",
      "source": [
        "# Overall rating distribution\n",
        "rating_dist = (df[\"rating\"].value_counts(normalize=True).sort_index() * 100).round(2)\n",
        "rating_dist\n",
        "\n",
        "# Plot: Rating distribution\n",
        "ax = rating_dist.plot(kind=\"bar\")\n",
        "ax.set_title(\"Rating Distribution (%)\")\n",
        "ax.set_xlabel(\"Rating\")\n",
        "ax.set_ylabel(\"Percentage\")\n",
        "for i, v in enumerate(rating_dist.values):\n",
        "    ax.text(i, v + 0.5, f\"{v:.1f}%\", ha=\"center\")\n",
        "plt.tight_layout()\n",
        "plt.savefig(f\"{OUT_DIR}/rating_distribution.png\", bbox_inches=\"tight\")\n",
        "plt.show()\n",
        "\n"
      ],
      "metadata": {
        "id": "adam1DifSAZE"
      },
      "execution_count": null,
      "outputs": []
    },
    {
      "cell_type": "code",
      "source": [
        "# Average rating by platform\n",
        "avg_by_platform = df.groupby(\"platform\")[\"rating\"].mean().sort_values(ascending=False).round(3)\n",
        "display(avg_by_platform)\n",
        "\n",
        "ax = avg_by_platform.plot(kind=\"bar\")\n",
        "ax.set_title(\"Average Rating by Platform\")\n",
        "ax.set_xlabel(\"Platform\")\n",
        "ax.set_ylabel(\"Avg Rating\")\n",
        "for i, v in enumerate(avg_by_platform.values):\n",
        "    ax.text(i, v + 0.03, f\"{v:.2f}\", ha=\"center\")\n",
        "plt.tight_layout()\n",
        "plt.savefig(f\"{OUT_DIR}/avg_rating_by_platform.png\", bbox_inches=\"tight\")\n",
        "plt.show()\n",
        "\n",
        "# Monthly avg rating trend (per platform)\n",
        "monthly_trend = df.groupby([\"month\",\"platform\"])[\"rating\"].mean().unstack()\n",
        "monthly_trend.index = monthly_trend.index.astype(str)  # for plotting\n",
        "display(monthly_trend.tail())\n",
        "\n",
        "ax = monthly_trend.plot(marker=\"o\")\n",
        "ax.set_title(\"Monthly Average Rating Trend by Platform\")\n",
        "ax.set_xlabel(\"Month\")\n",
        "ax.set_ylabel(\"Avg Rating\")\n",
        "plt.xticks(rotation=45, ha=\"right\")\n",
        "plt.tight_layout()\n",
        "plt.savefig(f\"{OUT_DIR}/monthly_avg_rating_trend.png\", bbox_inches=\"tight\")\n",
        "plt.show()\n"
      ],
      "metadata": {
        "id": "0lMXK_qISb4_"
      },
      "execution_count": null,
      "outputs": []
    },
    {
      "cell_type": "code",
      "source": [
        "# Split by rating\n",
        "pos_text = \" \".join(df.loc[df[\"rating\"] >= 4, \"review\"])\n",
        "neg_text = \" \".join(df.loc[df[\"rating\"] <= 2, \"review\"])\n",
        "\n",
        "# Generate\n",
        "wc_pos = WordCloud(width=1200, height=600, background_color=\"white\").generate(pos_text)\n",
        "wc_neg = WordCloud(width=1200, height=600, background_color=\"black\", colormap=\"Reds\").generate(neg_text)\n",
        "\n",
        "# Plot & save\n",
        "fig = plt.figure(figsize=(16,6))\n",
        "plt.imshow(wc_pos, interpolation=\"bilinear\")\n",
        "plt.axis(\"off\")\n",
        "plt.title(\"Positive Reviews – WordCloud\")\n",
        "plt.tight_layout()\n",
        "plt.savefig(f\"{OUT_DIR}/wordcloud_positive.png\", bbox_inches=\"tight\")\n",
        "plt.show()\n",
        "\n",
        "fig = plt.figure(figsize=(16,6))\n",
        "plt.imshow(wc_neg, interpolation=\"bilinear\")\n",
        "plt.axis(\"off\")\n",
        "plt.title(\"Negative Reviews – WordCloud\")\n",
        "plt.tight_layout()\n",
        "plt.savefig(f\"{OUT_DIR}/wordcloud_negative.png\", bbox_inches=\"tight\")\n",
        "plt.show()\n"
      ],
      "metadata": {
        "id": "VM8bR2m1TkPJ"
      },
      "execution_count": null,
      "outputs": []
    },
    {
      "cell_type": "code",
      "source": [
        "# Define complaint keywords (edit as needed)\n",
        "keywords = [\"refund\", \"support\", \"late\", \"delay\", \"cancel\", \"money\", \"issue\", \"delivery\", \"wrong\", \"payment\", \"quality\"]\n",
        "\n",
        "# Overall counts\n",
        "overall_counts = {kw: df[\"review\"].str.lower().str.contains(kw).sum() for kw in keywords}\n",
        "overall_df = pd.DataFrame({\"Keyword\": keywords,\n",
        "                           \"Count\": [overall_counts[k] for k in keywords]})\n",
        "overall_df[\"Percentage\"] = (overall_df[\"Count\"] / len(df) * 100).round(2)\n",
        "overall_df = overall_df.sort_values(\"Count\", ascending=False).reset_index(drop=True)\n",
        "display(overall_df)\n",
        "\n",
        "overall_df.to_csv(f\"{OUT_DIR}/complaints_overall.csv\", index=False)\n",
        "\n",
        "# Platform-wise counts\n",
        "plat_stats = {}\n",
        "for plat, sub in df.groupby(\"platform\"):\n",
        "    sub_text = sub[\"review\"].str.lower()\n",
        "    plat_stats[plat] = {kw: sub_text.str.contains(kw).sum() for kw in keywords}\n",
        "plat_df = pd.DataFrame(plat_stats).T.fillna(0).astype(int)\n",
        "plat_df[\"Total Reviews\"] = df.groupby(\"platform\").size()\n",
        "for kw in keywords:\n",
        "    plat_df[f\"{kw}_pct\"] = (plat_df[kw] / plat_df[\"Total Reviews\"] * 100).round(2)\n",
        "\n",
        "display(plat_df)\n",
        "plat_df.to_csv(f\"{OUT_DIR}/complaints_by_platform.csv\", index=True)\n"
      ],
      "metadata": {
        "id": "EwgiabqEUnMJ"
      },
      "execution_count": null,
      "outputs": []
    },
    {
      "cell_type": "code",
      "source": [
        "# Plot a focused comparison for the top 5 complaint categories\n",
        "key_complaints = [\"refund\", \"support\", \"cancel\", \"delivery\", \"money\"]\n",
        "plot_df = plat_df[key_complaints].div(plat_df[\"Total Reviews\"], axis=0) * 100\n",
        "\n",
        "ax = plot_df.plot(kind=\"bar\")\n",
        "ax.set_title(\"Top Complaint Categories (% of Reviews) by Platform\")\n",
        "ax.set_ylabel(\"Percentage of Reviews (%)\")\n",
        "ax.set_xlabel(\"Platform\")\n",
        "plt.xticks(rotation=0)\n",
        "plt.tight_layout()\n",
        "plt.savefig(f\"{OUT_DIR}/complaints_by_platform.png\", bbox_inches=\"tight\")\n",
        "plt.show()\n"
      ],
      "metadata": {
        "id": "JSqVkTnhVfMB"
      },
      "execution_count": null,
      "outputs": []
    },
    {
      "cell_type": "code",
      "source": [
        "# Simple rule-based sentiment from rating\n",
        "def label_sentiment(r):\n",
        "    if r >= 4: return \"Positive\"\n",
        "    if r == 3: return \"Neutral\"\n",
        "    return \"Negative\"\n",
        "\n",
        "df[\"sentiment\"] = df[\"rating\"].apply(label_sentiment)\n",
        "\n",
        "sent_counts = df.groupby([\"month\",\"platform\",\"sentiment\"]).size().reset_index(name=\"count\")\n",
        "sent_counts[\"total\"] = sent_counts.groupby([\"month\",\"platform\"])[\"count\"].transform(\"sum\")\n",
        "sent_counts[\"pct\"] = (sent_counts[\"count\"] / sent_counts[\"total\"] * 100).round(2)\n",
        "sent_counts[\"month\"] = sent_counts[\"month\"].astype(str)\n",
        "\n",
        "# Save table\n",
        "sent_counts.sort_values([\"platform\",\"month\",\"sentiment\"]).to_csv(f\"{OUT_DIR}/sentiment_trend_table.csv\", index=False)\n",
        "display(sent_counts.head())\n",
        "\n",
        "# Plot per platform\n",
        "for plat in df[\"platform\"].unique():\n",
        "    temp = sent_counts[sent_counts[\"platform\"] == plat]\n",
        "    pivot = temp.pivot(index=\"month\", columns=\"sentiment\", values=\"pct\").fillna(0)\n",
        "    ax = pivot.plot(marker=\"o\")\n",
        "    ax.set_title(f\"Sentiment Trend Over Time – {plat.capitalize()}\")\n",
        "    ax.set_xlabel(\"Month\")\n",
        "    ax.set_ylabel(\"% of Reviews\")\n",
        "    plt.xticks(rotation=45, ha=\"right\")\n",
        "    plt.tight_layout()\n",
        "    plt.savefig(f\"{OUT_DIR}/sentiment_trend_{plat}.png\", bbox_inches=\"tight\")\n",
        "    plt.show()\n"
      ],
      "metadata": {
        "id": "8g0UIlfCVjxR"
      },
      "execution_count": null,
      "outputs": []
    },
    {
      "cell_type": "code",
      "source": [
        "# Pull highlight metrics\n",
        "total_reviews = len(df)\n",
        "one_star_pct = ( (df[\"rating\"]==1).mean() * 100 )\n",
        "five_star_pct = ( (df[\"rating\"]==5).mean() * 100 )\n",
        "avg_by_plat_text = \"\\n\".join([f\"- {p}: {v:.2f} ⭐\" for p, v in avg_by_platform.items()])\n",
        "\n",
        "# Identify top 3 complaints overall\n",
        "top3 = overall_df.head(3)[[\"Keyword\",\"Percentage\"]].values.tolist()\n",
        "top3_text = \"\\n\".join([f\"- {k}: {pct:.2f}%\" for k, pct in top3])\n",
        "\n",
        "report = f\"\"\"# Quick Commerce Review Insights – Executive Summary\n",
        "\n",
        "**Dataset:** {total_reviews:,} reviews across Blinkit, Zepto, JioMart\n",
        "**Columns:** rating, date, review, platform\n",
        "\n",
        "## Overall Sentiment\n",
        "- 1★ share: **{one_star_pct:.1f}%**\n",
        "- 5★ share: **{five_star_pct:.1f}%**\n",
        "- Interpretation: Customer sentiment is **highly negative** overall.\n",
        "\n",
        "## Average Rating by Platform\n",
        "{avg_by_plat_text}\n",
        "\n",
        "## Top Complaint Themes (Overall)\n",
        "{top3_text}\n",
        "\n",
        "## Visuals (see /outputs)\n",
        "- rating_distribution.png\n",
        "- avg_rating_by_platform.png\n",
        "- monthly_avg_rating_trend.png\n",
        "- complaints_by_platform.png\n",
        "- wordcloud_positive.png\n",
        "- wordcloud_negative.png\n",
        "- sentiment_trend_<platform>.png\n",
        "\n",
        "## Recommendations\n",
        "- Blinkit: Improve delivery reliability and SLA adherence.\n",
        "- JioMart: Reduce cancellations; streamline and automate refunds.\n",
        "- Zepto: Strengthen customer support; fix refund/payment friction.\n",
        "- All: Proactive comms, faster escalation paths, and transparent refund timelines.\n",
        "\n",
        "*Generated automatically by the Colab notebook.*\n",
        "\"\"\"\n",
        "\n",
        "with open(f\"{OUT_DIR}/REPORT.md\", \"w\", encoding=\"utf-8\") as f:\n",
        "    f.write(report)\n",
        "\n",
        "print(f\"Report written to: {OUT_DIR}/REPORT.md\")\n"
      ],
      "metadata": {
        "id": "XJ_M5kvmVqk_"
      },
      "execution_count": null,
      "outputs": []
    },
    {
      "cell_type": "code",
      "source": [
        "# Save a cleaned subset for sharing\n",
        "clean_cols = [\"rating\",\"date\",\"review\",\"platform\",\"month\",\"sentiment\"]\n",
        "df[clean_cols].to_csv(f\"{OUT_DIR}/reviews_clean.csv\", index=False)\n",
        "print(\"Saved:\", f\"{OUT_DIR}/reviews_clean.csv\")\n"
      ],
      "metadata": {
        "id": "4W6dGhhBV6yr"
      },
      "execution_count": null,
      "outputs": []
    }
  ]
}